{
  "cells": [
    {
      "cell_type": "code",
      "execution_count": 1,
      "metadata": {
        "id": "Ki2K9ge2HYxo"
      },
      "outputs": [],
      "source": [
        "from loss import LossFn \n",
        "from model import ResNet\n",
        "from generate import Generate\n",
        "import torch"
      ]
    },
    {
      "cell_type": "code",
      "execution_count": 8,
      "metadata": {
        "colab": {
          "base_uri": "https://localhost:8080/"
        },
        "id": "MGFjJeikHp03",
        "outputId": "abbd5c90-ccac-435f-d12a-492da5773bac"
      },
      "outputs": [
        {
          "name": "stdout",
          "output_type": "stream",
          "text": [
            "Loading dataset...\n",
            "Loading model...\n"
          ]
        }
      ],
      "source": [
        "style_path = '/users/gursi/desktop/style.jpg'\n",
        "dataset_path = '/users/gursi/desktop/train'\n",
        "save_path = '/users/gursi/desktop/save'\n",
        "samples_path = '/users/gursi/desktop/samples'\n",
        "\n",
        "# optimum style weight : 6e4\n",
        "dev = torch.device('mps')\n",
        "\n",
        "# constants\n",
        "image_size = 256\n",
        "batch_size = 3\n",
        "lr = 0.001 \n",
        "content_weight = 1\n",
        "epochs = 5\n",
        "\n",
        "#IVs \n",
        "content_loss_layer = 3\n",
        "style_weight = 5e4\n",
        "num_residual_layers = 3\n",
        "\n",
        "gen = Generate(dev = dev)\n",
        "gen.init_dataset(dataset_path=dataset_path, style_path=style_path, batch_size=batch_size, image_size=image_size)\n",
        "gen.init_model(num_residual_layers=num_residual_layers)"
      ]
    },
    {
      "cell_type": "code",
      "execution_count": 9,
      "metadata": {
        "colab": {
          "base_uri": "https://localhost:8080/"
        },
        "id": "6ZMKA0FeZ3PP",
        "outputId": "4c80c69e-924c-476f-90b0-eac1605ad1ec"
      },
      "outputs": [
        {
          "name": "stdout",
          "output_type": "stream",
          "text": [
            "Starting training...\n"
          ]
        },
        {
          "name": "stderr",
          "output_type": "stream",
          "text": [
            "                                                                               \r"
          ]
        },
        {
          "ename": "KeyboardInterrupt",
          "evalue": "",
          "output_type": "error",
          "traceback": [
            "\u001b[0;31m---------------------------------------------------------------------------\u001b[0m",
            "\u001b[0;31mKeyboardInterrupt\u001b[0m                         Traceback (most recent call last)",
            "\u001b[1;32m/Users/gursi/Documents/Main/Coding/ML/Neural_Style_Transfer/train.ipynb Cell 3'\u001b[0m in \u001b[0;36m<cell line: 1>\u001b[0;34m()\u001b[0m\n\u001b[0;32m----> <a href='vscode-notebook-cell:/Users/gursi/Documents/Main/Coding/ML/Neural_Style_Transfer/train.ipynb#ch0000002?line=0'>1</a>\u001b[0m gen\u001b[39m.\u001b[39;49mtrain(\n\u001b[1;32m      <a href='vscode-notebook-cell:/Users/gursi/Documents/Main/Coding/ML/Neural_Style_Transfer/train.ipynb#ch0000002?line=1'>2</a>\u001b[0m     lr\u001b[39m=\u001b[39;49mlr, epochs\u001b[39m=\u001b[39;49mepochs, style_weight\u001b[39m=\u001b[39;49mstyle_weight, content_weight\u001b[39m=\u001b[39;49mcontent_weight,\n\u001b[1;32m      <a href='vscode-notebook-cell:/Users/gursi/Documents/Main/Coding/ML/Neural_Style_Transfer/train.ipynb#ch0000002?line=2'>3</a>\u001b[0m     save_path\u001b[39m=\u001b[39;49msave_path, samples_path\u001b[39m=\u001b[39;49msamples_path, save_every\u001b[39m=\u001b[39;49m\u001b[39m10\u001b[39;49m, generate_every\u001b[39m=\u001b[39;49m\u001b[39m10\u001b[39;49m,\n\u001b[1;32m      <a href='vscode-notebook-cell:/Users/gursi/Documents/Main/Coding/ML/Neural_Style_Transfer/train.ipynb#ch0000002?line=3'>4</a>\u001b[0m     content_loss_layer\u001b[39m=\u001b[39;49mcontent_loss_layer\n\u001b[1;32m      <a href='vscode-notebook-cell:/Users/gursi/Documents/Main/Coding/ML/Neural_Style_Transfer/train.ipynb#ch0000002?line=4'>5</a>\u001b[0m )\n",
            "File \u001b[0;32m~/Documents/Main/Coding/ML/Neural_Style_Transfer/generate.py:121\u001b[0m, in \u001b[0;36mGenerate.train\u001b[0;34m(self, lr, epochs, style_weight, content_weight, save_path, samples_path, save_every, generate_every, content_loss_layer)\u001b[0m\n\u001b[1;32m    <a href='file:///Users/gursi/Documents/Main/Coding/ML/Neural_Style_Transfer/generate.py?line=118'>119</a>\u001b[0m opt\u001b[39m.\u001b[39mzero_grad()\n\u001b[1;32m    <a href='file:///Users/gursi/Documents/Main/Coding/ML/Neural_Style_Transfer/generate.py?line=119'>120</a>\u001b[0m output_imgs \u001b[39m=\u001b[39m \u001b[39mself\u001b[39m\u001b[39m.\u001b[39mmodel(input_imgs)\n\u001b[0;32m--> <a href='file:///Users/gursi/Documents/Main/Coding/ML/Neural_Style_Transfer/generate.py?line=120'>121</a>\u001b[0m loss, c_loss, s_loss \u001b[39m=\u001b[39m crit\u001b[39m.\u001b[39;49mcalc_loss(output_imgs, input_imgs, content_loss_layer\u001b[39m=\u001b[39;49mcontent_loss_layer)\n\u001b[1;32m    <a href='file:///Users/gursi/Documents/Main/Coding/ML/Neural_Style_Transfer/generate.py?line=121'>122</a>\u001b[0m loss\u001b[39m.\u001b[39mbackward(retain_graph\u001b[39m=\u001b[39m\u001b[39mTrue\u001b[39;00m)\n\u001b[1;32m    <a href='file:///Users/gursi/Documents/Main/Coding/ML/Neural_Style_Transfer/generate.py?line=122'>123</a>\u001b[0m opt\u001b[39m.\u001b[39mstep()\n",
            "File \u001b[0;32m~/Documents/Main/Coding/ML/Neural_Style_Transfer/loss.py:84\u001b[0m, in \u001b[0;36mLossFn.calc_loss\u001b[0;34m(self, output, content, content_loss_layer)\u001b[0m\n\u001b[1;32m     <a href='file:///Users/gursi/Documents/Main/Coding/ML/Neural_Style_Transfer/loss.py?line=80'>81</a>\u001b[0m output_activations \u001b[39m=\u001b[39m \u001b[39mself\u001b[39m\u001b[39m.\u001b[39mloss_network(\u001b[39mself\u001b[39m\u001b[39m.\u001b[39mvgg_normalize(output))\n\u001b[1;32m     <a href='file:///Users/gursi/Documents/Main/Coding/ML/Neural_Style_Transfer/loss.py?line=82'>83</a>\u001b[0m content_loss \u001b[39m=\u001b[39m \u001b[39mself\u001b[39m\u001b[39m.\u001b[39mcontent_loss(output_activations[content_loss_layer], content_activations[content_loss_layer])\n\u001b[0;32m---> <a href='file:///Users/gursi/Documents/Main/Coding/ML/Neural_Style_Transfer/loss.py?line=83'>84</a>\u001b[0m style_loss \u001b[39m=\u001b[39m \u001b[39mself\u001b[39;49m\u001b[39m.\u001b[39;49mstyle_loss(output_activations)\n\u001b[1;32m     <a href='file:///Users/gursi/Documents/Main/Coding/ML/Neural_Style_Transfer/loss.py?line=84'>85</a>\u001b[0m total_loss \u001b[39m=\u001b[39m content_loss \u001b[39m+\u001b[39m style_loss\n\u001b[1;32m     <a href='file:///Users/gursi/Documents/Main/Coding/ML/Neural_Style_Transfer/loss.py?line=85'>86</a>\u001b[0m \u001b[39mreturn\u001b[39;00m total_loss, content_loss, style_loss\n",
            "File \u001b[0;32m~/Documents/Main/Coding/ML/Neural_Style_Transfer/loss.py:75\u001b[0m, in \u001b[0;36mLossFn.style_loss\u001b[0;34m(self, output_activations)\u001b[0m\n\u001b[1;32m     <a href='file:///Users/gursi/Documents/Main/Coding/ML/Neural_Style_Transfer/loss.py?line=72'>73</a>\u001b[0m \u001b[39mfor\u001b[39;00m out_ac, style_gram_matrix \u001b[39min\u001b[39;00m \u001b[39mzip\u001b[39m(output_activations, \u001b[39mself\u001b[39m\u001b[39m.\u001b[39mstyle_grams):\n\u001b[1;32m     <a href='file:///Users/gursi/Documents/Main/Coding/ML/Neural_Style_Transfer/loss.py?line=73'>74</a>\u001b[0m     output_gram_matrix \u001b[39m=\u001b[39m \u001b[39mself\u001b[39m\u001b[39m.\u001b[39mgram_matrix(out_ac)\n\u001b[0;32m---> <a href='file:///Users/gursi/Documents/Main/Coding/ML/Neural_Style_Transfer/loss.py?line=74'>75</a>\u001b[0m     style_loss \u001b[39m+\u001b[39m\u001b[39m=\u001b[39m \u001b[39mself\u001b[39m\u001b[39m.\u001b[39mmse(output_gram_matrix, style_gram_matrix)\n\u001b[1;32m     <a href='file:///Users/gursi/Documents/Main/Coding/ML/Neural_Style_Transfer/loss.py?line=75'>76</a>\u001b[0m \u001b[39mreturn\u001b[39;00m style_loss \u001b[39m*\u001b[39m \u001b[39mself\u001b[39m\u001b[39m.\u001b[39mstyle_weight\n",
            "\u001b[0;31mKeyboardInterrupt\u001b[0m: "
          ]
        }
      ],
      "source": [
        "gen.train(\n",
        "    lr=lr, epochs=epochs, style_weight=style_weight, content_weight=content_weight,\n",
        "    save_path=save_path, samples_path=samples_path, save_every=10, generate_every=10,\n",
        "    content_loss_layer=content_loss_layer\n",
        ")"
      ]
    }
  ],
  "metadata": {
    "accelerator": "GPU",
    "colab": {
      "collapsed_sections": [],
      "name": "train.ipynb",
      "provenance": []
    },
    "interpreter": {
      "hash": "0aff4ff998abb2023bb4c02eb86f08907a6ec3d88174efdd5a5bf68897afa261"
    },
    "kernelspec": {
      "display_name": "Python 3.9.13 ('ml')",
      "language": "python",
      "name": "python3"
    },
    "language_info": {
      "codemirror_mode": {
        "name": "ipython",
        "version": 3
      },
      "file_extension": ".py",
      "mimetype": "text/x-python",
      "name": "python",
      "nbconvert_exporter": "python",
      "pygments_lexer": "ipython3",
      "version": "3.9.13"
    }
  },
  "nbformat": 4,
  "nbformat_minor": 0
}
